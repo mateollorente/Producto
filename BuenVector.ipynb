{
  "nbformat": 4,
  "nbformat_minor": 0,
  "metadata": {
    "colab": {
      "provenance": [],
      "gpuType": "T4",
      "include_colab_link": true
    },
    "kernelspec": {
      "name": "python3",
      "display_name": "Python 3"
    },
    "language_info": {
      "name": "python"
    },
    "accelerator": "GPU"
  },
  "cells": [
    {
      "cell_type": "markdown",
      "metadata": {
        "id": "view-in-github",
        "colab_type": "text"
      },
      "source": [
        "<a href=\"https://colab.research.google.com/github/mateollorente/Producto/blob/master/BuenVector.ipynb\" target=\"_parent\"><img src=\"https://colab.research.google.com/assets/colab-badge.svg\" alt=\"Open In Colab\"/></a>"
      ]
    },
    {
      "cell_type": "code",
      "source": [
        "import cv2\n",
        "import numpy as np\n",
        "import matplotlib.pyplot as plt\n",
        "import os\n",
        "import cv2\n",
        "import numpy as np\n",
        "from sklearn.model_selection import train_test_split\n",
        "import tensorflow as tf\n",
        "from tqdm import tqdm\n",
        "from google.colab import userdata\n",
        "import os, json\n",
        "from tensorflow.keras.models import load_model\n",
        "from tensorflow.keras.utils import to_categorical\n",
        "from tensorflow.keras import layers, models\n"
      ],
      "metadata": {
        "id": "hpxvGDPxzgUR"
      },
      "execution_count": 1,
      "outputs": []
    },
    {
      "cell_type": "code",
      "source": [
        "!git clone https://github.com/SantiagoBuffa/BeatAI.git\n",
        "%cd BeatAI"
      ],
      "metadata": {
        "id": "EGvxjaKHzUxA",
        "colab": {
          "base_uri": "https://localhost:8080/"
        },
        "outputId": "2c80e02e-70b1-4652-f3e9-33dc8cf7445a"
      },
      "execution_count": 2,
      "outputs": [
        {
          "output_type": "stream",
          "name": "stdout",
          "text": [
            "Cloning into 'BeatAI'...\n",
            "remote: Enumerating objects: 884, done.\u001b[K\n",
            "remote: Counting objects: 100% (122/122), done.\u001b[K\n",
            "remote: Compressing objects: 100% (101/101), done.\u001b[K\n",
            "remote: Total 884 (delta 55), reused 46 (delta 14), pack-reused 762 (from 3)\u001b[K\n",
            "Receiving objects: 100% (884/884), 103.25 MiB | 21.32 MiB/s, done.\n",
            "Resolving deltas: 100% (585/585), done.\n",
            "/content/BeatAI\n"
          ]
        }
      ]
    },
    {
      "cell_type": "code",
      "source": [
        "\n",
        "\n",
        "kaggle_username = userdata.get(\"kaggle_username\")\n",
        "kaggle_key = userdata.get(\"kaggle_key\")\n",
        "\n",
        "os.makedirs(os.path.expanduser(\"~/.kaggle\"), exist_ok=True)\n",
        "with open(os.path.expanduser(\"~/.kaggle/kaggle.json\"), \"w\") as f:\n",
        "    json.dump({\"username\": kaggle_username, \"key\": kaggle_key}, f)\n",
        "\n",
        "os.chmod(os.path.expanduser(\"~/.kaggle/kaggle.json\"), 0o600)\n",
        "\n",
        "!pip install kaggle --quiet\n",
        "!kaggle datasets download -d evilspirit05/ecg-analysis -p ./data --unzip"
      ],
      "metadata": {
        "colab": {
          "base_uri": "https://localhost:8080/"
        },
        "id": "a4XsCfJf5gEg",
        "outputId": "e9eddea2-180c-4f9c-8fdc-c38b87909aa7"
      },
      "execution_count": 3,
      "outputs": [
        {
          "output_type": "stream",
          "name": "stdout",
          "text": [
            "Dataset URL: https://www.kaggle.com/datasets/evilspirit05/ecg-analysis\n",
            "License(s): MIT\n",
            "Downloading ecg-analysis.zip to ./data\n",
            " 98% 808M/826M [00:07<00:00, 85.9MB/s]\n",
            "100% 826M/826M [00:07<00:00, 120MB/s] \n"
          ]
        }
      ]
    },
    {
      "cell_type": "code",
      "source": [
        "def apply_degradation_to_gray(gray_img):\n",
        "    \"\"\"\n",
        "    Aplica un desenfoque Gaussiano y ruido normal a una imagen\n",
        "    en escala de grises (array de NumPy).\n",
        "    \"\"\"\n",
        "    # 1. Aplicar desenfoque (blur)\n",
        "    blurred = cv2.GaussianBlur(gray_img, (5, 5), 0)\n",
        "\n",
        "    # 2. Añadir ruido\n",
        "    # Convertimos a float32 para sumar el ruido sin problemas de clipping\n",
        "    degraded_float = blurred.astype(np.float32)\n",
        "    noise = np.random.normal(0, 10, gray_img.shape) # Ruido con std dev 10\n",
        "    degraded_float += noise\n",
        "\n",
        "    # 3. Volver al rango 0-255 y al tipo uint8\n",
        "    degraded_clipped = np.clip(degraded_float, 0, 255)\n",
        "\n",
        "    return degraded_clipped.astype(np.uint8)"
      ],
      "metadata": {
        "id": "Q6pOzZehm2Ku"
      },
      "execution_count": 4,
      "outputs": []
    },
    {
      "cell_type": "code",
      "source": [
        "def ecg_to_vector(path, num_rows=4, smooth=True, apply_degradation=False):\n",
        "    \"\"\"\n",
        "    Tu función de extracción de señal, ahora con degradación opcional.\n",
        "    \"\"\"\n",
        "    img = cv2.imread(path)\n",
        "    if img is None:\n",
        "        raise ValueError(f\"No se pudo cargar la imagen: {path}\")\n",
        "\n",
        "    gray = cv2.cvtColor(img, cv2.COLOR_BGR2GRAY)\n",
        "    target_size = (1300, 930)\n",
        "    gray = cv2.resize(gray, target_size, interpolation=cv2.INTER_AREA)\n",
        "    # --- INICIO DE LA MODIFICACIÓN ---\n",
        "    # Si se activa, aplicamos la degradación a la imagen en grises\n",
        "    # ANTES de cualquier otro procesamiento.\n",
        "    #if apply_degradation:\n",
        "        #gray = apply_degradation_to_gray(gray)\n",
        "    # --- FIN DE LA MODIFICACIÓN ---\n",
        "\n",
        "    # El resto de tu lógica de binarización y limpieza funciona\n",
        "    # ahora sobre la imagen 'gray' (limpia o degradada).\n",
        "    thresh = cv2.adaptiveThreshold(gray, 255, cv2.ADAPTIVE_THRESH_MEAN_C,\n",
        "                                   cv2.THRESH_BINARY_INV, 35, 10)\n",
        "\n",
        "    kernel = cv2.getStructuringElement(cv2.MORPH_RECT, (3, 1))\n",
        "    clean = cv2.morphologyEx(thresh, cv2.MORPH_OPEN, kernel)\n",
        "\n",
        "    contours, _ = cv2.findContours(clean, cv2.RETR_EXTERNAL, cv2.CHAIN_APPROX_SIMPLE)\n",
        "\n",
        "    # Manejar imágenes vacías (sin contornos)\n",
        "    if len(contours) == 0:\n",
        "        # Si no hay contornos, devuelve un vector de ceros\n",
        "        # (o podrías decidir omitir este archivo en la función de carga)\n",
        "        print(f\"Advertencia: No se encontraron contornos en {path}. Saltando.\")\n",
        "        return None # Devolver None para que la función de carga lo omita\n",
        "\n",
        "    x, y, w, h = cv2.boundingRect(max(contours, key=cv2.contourArea))\n",
        "    clean = clean[y:y+h, x:x+w]\n",
        "\n",
        "    height = clean.shape[0]\n",
        "\n",
        "    # Evitar división por cero si la imagen es muy pequeña\n",
        "    if height < num_rows:\n",
        "        print(f\"Advertencia: Altura de contorno ({height}) menor que num_rows en {path}. Saltando.\")\n",
        "        return None\n",
        "\n",
        "    row_height = height // num_rows\n",
        "    signals = []\n",
        "\n",
        "    for i in range(num_rows):\n",
        "        row = clean[i*row_height:(i+1)*row_height, :]\n",
        "        ys = []\n",
        "        for col in range(row.shape[1]):\n",
        "            pixels = np.where(row[:, col] > 0)[0]\n",
        "            if len(pixels) > 0:\n",
        "                ys.append(np.mean(pixels))\n",
        "            else:\n",
        "                ys.append(np.nan)\n",
        "\n",
        "        ys = np.array(ys)\n",
        "        nans = np.isnan(ys)\n",
        "\n",
        "        # Manejar caso donde todos son NaNs\n",
        "        if np.all(nans) or not np.any(~nans):\n",
        "            ys[:] = 0 # Rellenar con ceros si la tira está vacía\n",
        "        elif np.any(nans):\n",
        "            # Interpolar NaNs\n",
        "            ys[nans] = np.interp(np.flatnonzero(nans), np.flatnonzero(~nans), ys[~nans])\n",
        "\n",
        "        # Normalizar la señal de la tira (evitar división por cero)\n",
        "        min_y, max_y = np.min(ys), np.max(ys)\n",
        "        if max_y - min_y > 1e-6: # Un umbral pequeño\n",
        "            ys = (ys - min_y) / (max_y - min_y)\n",
        "        else:\n",
        "            ys[:] = 0.5 # Si la línea es plana, ponerla en el medio\n",
        "\n",
        "        signals.append(ys)\n",
        "\n",
        "    vector = np.concatenate(signals)\n",
        "\n",
        "    if smooth:\n",
        "        vector = cv2.GaussianBlur(vector.reshape(-1, 1), (9, 1), 0).flatten()\n",
        "\n",
        "    return vector"
      ],
      "metadata": {
        "id": "MSRPfRxRx-5H"
      },
      "execution_count": 36,
      "outputs": []
    },
    {
      "cell_type": "code",
      "source": [
        "def resize_vector(v, target_len=2048):\n",
        "    x_old = np.linspace(0, 1, len(v))\n",
        "    x_new = np.linspace(0, 1, target_len)\n",
        "    return np.interp(x_new, x_old, v)"
      ],
      "metadata": {
        "id": "o7XPX53TyKOp"
      },
      "execution_count": 27,
      "outputs": []
    },
    {
      "cell_type": "code",
      "source": [
        "def preprocess_dataset_1d(dataset_path, target_len=2048, num_rows=4):\n",
        "    \"\"\"\n",
        "    Carga todas las imágenes del dataset y genera vectores 1D concatenados.\n",
        "    - Aplica degradación al conjunto de 'train'.\n",
        "    - NO aplica degradación al conjunto de 'test'.\n",
        "    \"\"\"\n",
        "    train_dir = os.path.join(dataset_path, 'train')\n",
        "    test_dir = os.path.join(dataset_path, 'test')\n",
        "\n",
        "    X_train, y_train = [], []\n",
        "    X_test, y_test = [], []\n",
        "\n",
        "    class_names = sorted(os.listdir(train_dir))\n",
        "    print(f\"📂 Clases detectadas: {class_names}\")\n",
        "\n",
        "    # --- TRAIN (CON DEGRADACIÓN) ---\n",
        "    for label, cls in enumerate(class_names):\n",
        "        cls_dir = os.path.join(train_dir, cls)\n",
        "        for fname in tqdm(os.listdir(cls_dir), desc=f\"Procesando {cls} (train)\"):\n",
        "            path = os.path.join(cls_dir, fname)\n",
        "            if not fname.lower().endswith(('.jpg', '.png', '.jpeg')):\n",
        "                continue\n",
        "\n",
        "            # Llamamos con apply_degradation=True\n",
        "            vec = ecg_to_vector(path, num_rows=num_rows, apply_degradation=True)\n",
        "\n",
        "            # Omitir si la función devolvió None (por error o sin contornos)\n",
        "            if vec is None:\n",
        "                continue\n",
        "\n",
        "            vec = resize_vector(vec, target_len)\n",
        "            X_train.append(vec)\n",
        "            y_train.append(label)\n",
        "\n",
        "    # --- TEST (SIN DEGRADACIÓN) ---\n",
        "    for label, cls in enumerate(class_names):\n",
        "        cls_dir = os.path.join(test_dir, cls)\n",
        "        for fname in tqdm(os.listdir(cls_dir), desc=f\"Procesando {cls} (test)\"):\n",
        "            path = os.path.join(cls_dir, fname)\n",
        "            if not fname.lower().endswith(('.jpg', '.png', '.jpeg')):\n",
        "                continue\n",
        "\n",
        "            # Llamamos con apply_degradation=False\n",
        "            vec = ecg_to_vector(path, num_rows=num_rows, apply_degradation=False)\n",
        "\n",
        "            if vec is None:\n",
        "                continue\n",
        "\n",
        "            vec = resize_vector(vec, target_len)\n",
        "            X_test.append(vec)\n",
        "            y_test.append(label)\n",
        "\n",
        "    X_train = np.array(X_train)[..., np.newaxis]\n",
        "    y_train = tf.keras.utils.to_categorical(y_train, num_classes=len(class_names))\n",
        "    X_test = np.array(X_test)[..., np.newaxis]\n",
        "    y_test = tf.keras.utils.to_categorical(y_test, num_classes=len(class_names))\n",
        "\n",
        "    # --- SPLIT VALIDATION ---\n",
        "    # X_val se creará a partir de X_train, por lo que también\n",
        "    # contendrá imágenes degradadas, lo cual es correcto.\n",
        "    X_train, X_val, y_train, y_val = train_test_split(\n",
        "        X_train, y_train, test_size=0.2, random_state=42, stratify=y_train.argmax(axis=1)\n",
        "    )\n",
        "\n",
        "    print(f\"✅ X_train: {X_train.shape}, X_val: {X_val.shape}, X_test: {X_test.shape}\")\n",
        "    return X_train, y_train, X_val, y_val, X_test, y_test"
      ],
      "metadata": {
        "id": "GiNK8_Tfi9Mg"
      },
      "execution_count": 28,
      "outputs": []
    },
    {
      "cell_type": "code",
      "source": [
        "def build_ecg_1d_model(input_length=2048, num_classes=4):\n",
        "    \"\"\"\n",
        "    Construye el modelo CNN 1D.\n",
        "    \"\"\"\n",
        "    model = models.Sequential([\n",
        "        # El Input debe tener la forma (longitud, canales)\n",
        "        layers.Input(shape=(input_length,)),\n",
        "        # Reshape para añadir el canal (necesario para Conv1D)\n",
        "        layers.Reshape((input_length, 1)),\n",
        "\n",
        "        layers.Conv1D(32, 7, activation='relu', padding='same'),\n",
        "        layers.MaxPooling1D(2),\n",
        "\n",
        "        layers.Conv1D(64, 5, activation='relu', padding='same'),\n",
        "        layers.MaxPooling1D(2),\n",
        "\n",
        "        layers.Conv1D(128, 3, activation='relu', padding='same'),\n",
        "        layers.GlobalAveragePooling1D(),\n",
        "\n",
        "        layers.Dense(64, activation='relu'),\n",
        "        layers.Dropout(0.3),\n",
        "        layers.Dense(num_classes, activation='softmax')\n",
        "    ])\n",
        "\n",
        "    model.compile(optimizer='adam',\n",
        "                  loss='categorical_crossentropy',\n",
        "                  metrics=['accuracy'])\n",
        "    return model"
      ],
      "metadata": {
        "id": "WXns7MhxGzvm"
      },
      "execution_count": 29,
      "outputs": []
    },
    {
      "cell_type": "code",
      "source": [
        "dataset_path = \"/content/BeatAI/data/ECG_DATA\"\n",
        "TARGET_VECTOR_LENGTH = 2048\n",
        "NUM_CLASSES = 4\n",
        "\n",
        "\n",
        "X_train, y_train, X_val, y_val, X_test, y_test = preprocess_dataset_1d(\n",
        "    dataset_path\n",
        ")\n",
        "\n",
        "\n"
      ],
      "metadata": {
        "id": "8gSRW01TBn-h",
        "colab": {
          "base_uri": "https://localhost:8080/"
        },
        "outputId": "f29bbb68-95c6-4523-cd70-894cf3a09450"
      },
      "execution_count": 37,
      "outputs": [
        {
          "output_type": "stream",
          "name": "stdout",
          "text": [
            "📂 Clases detectadas: ['ECG Images of Myocardial Infarction Patients (240x12=2880)', 'ECG Images of Patient that have History of MI (172x12=2064)', 'ECG Images of Patient that have abnormal heartbeat (233x12=2796)', 'Normal Person ECG Images (284x12=3408)']\n"
          ]
        },
        {
          "output_type": "stream",
          "name": "stderr",
          "text": [
            "Procesando ECG Images of Myocardial Infarction Patients (240x12=2880) (train): 100%|██████████| 956/956 [01:23<00:00, 11.45it/s]\n",
            "Procesando ECG Images of Patient that have History of MI (172x12=2064) (train): 100%|██████████| 516/516 [00:45<00:00, 11.31it/s]\n",
            "Procesando ECG Images of Patient that have abnormal heartbeat (233x12=2796) (train): 100%|██████████| 699/699 [01:01<00:00, 11.43it/s]\n",
            "Procesando Normal Person ECG Images (284x12=3408) (train): 100%|██████████| 852/852 [01:14<00:00, 11.50it/s]\n",
            "Procesando ECG Images of Myocardial Infarction Patients (240x12=2880) (test): 100%|██████████| 239/239 [00:20<00:00, 11.47it/s]\n",
            "Procesando ECG Images of Patient that have History of MI (172x12=2064) (test): 100%|██████████| 172/172 [00:14<00:00, 11.75it/s]\n",
            "Procesando ECG Images of Patient that have abnormal heartbeat (233x12=2796) (test): 100%|██████████| 233/233 [00:20<00:00, 11.24it/s]\n",
            "Procesando Normal Person ECG Images (284x12=3408) (test): 100%|██████████| 284/284 [00:24<00:00, 11.45it/s]\n"
          ]
        },
        {
          "output_type": "stream",
          "name": "stdout",
          "text": [
            "✅ X_train: (2418, 2048, 1), X_val: (605, 2048, 1), X_test: (928, 2048, 1)\n"
          ]
        }
      ]
    },
    {
      "cell_type": "code",
      "source": [
        "# Construir el modelo\n",
        "model = build_ecg_1d_model(\n",
        "    input_length=TARGET_VECTOR_LENGTH,\n",
        "    num_classes=NUM_CLASSES\n",
        ")\n",
        "\n"
      ],
      "metadata": {
        "id": "zC1Utb8WGjlj"
      },
      "execution_count": 38,
      "outputs": []
    },
    {
      "cell_type": "code",
      "source": [
        "model.summary()\n",
        "\n",
        "print(\"\\nIniciando entrenamiento...\")\n",
        "history = model.fit(\n",
        "    X_train, y_train,\n",
        "    epochs=100,\n",
        "    batch_size=32,\n",
        "    validation_data=(X_val, y_val),\n",
        "    callbacks=[tf.keras.callbacks.EarlyStopping(monitor='val_loss', patience=50, restore_best_weights=True)]\n",
        ")\n",
        "\n",
        "# Evaluar en el conjunto de test (limpio)\n",
        "print(\"\\nEvaluando en el conjunto de test (limpio)...\")\n",
        "test_loss, test_acc = model.evaluate(X_test, y_test)\n",
        "print(f\"Test Loss: {test_loss:.4f}\")\n",
        "print(f\"Test Accuracy: {test_acc*100:.2f}%\")"
      ],
      "metadata": {
        "colab": {
          "base_uri": "https://localhost:8080/",
          "height": 1000
        },
        "id": "voIyRuCsJnhM",
        "outputId": "ad3a9079-db1b-47cc-94b8-cf188243a727"
      },
      "execution_count": 47,
      "outputs": [
        {
          "output_type": "display_data",
          "data": {
            "text/plain": [
              "\u001b[1mModel: \"sequential_5\"\u001b[0m\n"
            ],
            "text/html": [
              "<pre style=\"white-space:pre;overflow-x:auto;line-height:normal;font-family:Menlo,'DejaVu Sans Mono',consolas,'Courier New',monospace\"><span style=\"font-weight: bold\">Model: \"sequential_5\"</span>\n",
              "</pre>\n"
            ]
          },
          "metadata": {}
        },
        {
          "output_type": "display_data",
          "data": {
            "text/plain": [
              "┏━━━━━━━━━━━━━━━━━━━━━━━━━━━━━━━━━┳━━━━━━━━━━━━━━━━━━━━━━━━┳━━━━━━━━━━━━━━━┓\n",
              "┃\u001b[1m \u001b[0m\u001b[1mLayer (type)                   \u001b[0m\u001b[1m \u001b[0m┃\u001b[1m \u001b[0m\u001b[1mOutput Shape          \u001b[0m\u001b[1m \u001b[0m┃\u001b[1m \u001b[0m\u001b[1m      Param #\u001b[0m\u001b[1m \u001b[0m┃\n",
              "┡━━━━━━━━━━━━━━━━━━━━━━━━━━━━━━━━━╇━━━━━━━━━━━━━━━━━━━━━━━━╇━━━━━━━━━━━━━━━┩\n",
              "│ reshape_5 (\u001b[38;5;33mReshape\u001b[0m)             │ (\u001b[38;5;45mNone\u001b[0m, \u001b[38;5;34m2048\u001b[0m, \u001b[38;5;34m1\u001b[0m)        │             \u001b[38;5;34m0\u001b[0m │\n",
              "├─────────────────────────────────┼────────────────────────┼───────────────┤\n",
              "│ conv1d_17 (\u001b[38;5;33mConv1D\u001b[0m)              │ (\u001b[38;5;45mNone\u001b[0m, \u001b[38;5;34m2048\u001b[0m, \u001b[38;5;34m32\u001b[0m)       │           \u001b[38;5;34m256\u001b[0m │\n",
              "├─────────────────────────────────┼────────────────────────┼───────────────┤\n",
              "│ max_pooling1d_12 (\u001b[38;5;33mMaxPooling1D\u001b[0m) │ (\u001b[38;5;45mNone\u001b[0m, \u001b[38;5;34m1024\u001b[0m, \u001b[38;5;34m32\u001b[0m)       │             \u001b[38;5;34m0\u001b[0m │\n",
              "├─────────────────────────────────┼────────────────────────┼───────────────┤\n",
              "│ conv1d_18 (\u001b[38;5;33mConv1D\u001b[0m)              │ (\u001b[38;5;45mNone\u001b[0m, \u001b[38;5;34m1024\u001b[0m, \u001b[38;5;34m64\u001b[0m)       │        \u001b[38;5;34m10,304\u001b[0m │\n",
              "├─────────────────────────────────┼────────────────────────┼───────────────┤\n",
              "│ max_pooling1d_13 (\u001b[38;5;33mMaxPooling1D\u001b[0m) │ (\u001b[38;5;45mNone\u001b[0m, \u001b[38;5;34m512\u001b[0m, \u001b[38;5;34m64\u001b[0m)        │             \u001b[38;5;34m0\u001b[0m │\n",
              "├─────────────────────────────────┼────────────────────────┼───────────────┤\n",
              "│ conv1d_19 (\u001b[38;5;33mConv1D\u001b[0m)              │ (\u001b[38;5;45mNone\u001b[0m, \u001b[38;5;34m512\u001b[0m, \u001b[38;5;34m128\u001b[0m)       │        \u001b[38;5;34m24,704\u001b[0m │\n",
              "├─────────────────────────────────┼────────────────────────┼───────────────┤\n",
              "│ global_average_pooling1d_5      │ (\u001b[38;5;45mNone\u001b[0m, \u001b[38;5;34m128\u001b[0m)            │             \u001b[38;5;34m0\u001b[0m │\n",
              "│ (\u001b[38;5;33mGlobalAveragePooling1D\u001b[0m)        │                        │               │\n",
              "├─────────────────────────────────┼────────────────────────┼───────────────┤\n",
              "│ dense_10 (\u001b[38;5;33mDense\u001b[0m)                │ (\u001b[38;5;45mNone\u001b[0m, \u001b[38;5;34m64\u001b[0m)             │         \u001b[38;5;34m8,256\u001b[0m │\n",
              "├─────────────────────────────────┼────────────────────────┼───────────────┤\n",
              "│ dropout_7 (\u001b[38;5;33mDropout\u001b[0m)             │ (\u001b[38;5;45mNone\u001b[0m, \u001b[38;5;34m64\u001b[0m)             │             \u001b[38;5;34m0\u001b[0m │\n",
              "├─────────────────────────────────┼────────────────────────┼───────────────┤\n",
              "│ dense_11 (\u001b[38;5;33mDense\u001b[0m)                │ (\u001b[38;5;45mNone\u001b[0m, \u001b[38;5;34m4\u001b[0m)              │           \u001b[38;5;34m260\u001b[0m │\n",
              "└─────────────────────────────────┴────────────────────────┴───────────────┘\n"
            ],
            "text/html": [
              "<pre style=\"white-space:pre;overflow-x:auto;line-height:normal;font-family:Menlo,'DejaVu Sans Mono',consolas,'Courier New',monospace\">┏━━━━━━━━━━━━━━━━━━━━━━━━━━━━━━━━━┳━━━━━━━━━━━━━━━━━━━━━━━━┳━━━━━━━━━━━━━━━┓\n",
              "┃<span style=\"font-weight: bold\"> Layer (type)                    </span>┃<span style=\"font-weight: bold\"> Output Shape           </span>┃<span style=\"font-weight: bold\">       Param # </span>┃\n",
              "┡━━━━━━━━━━━━━━━━━━━━━━━━━━━━━━━━━╇━━━━━━━━━━━━━━━━━━━━━━━━╇━━━━━━━━━━━━━━━┩\n",
              "│ reshape_5 (<span style=\"color: #0087ff; text-decoration-color: #0087ff\">Reshape</span>)             │ (<span style=\"color: #00d7ff; text-decoration-color: #00d7ff\">None</span>, <span style=\"color: #00af00; text-decoration-color: #00af00\">2048</span>, <span style=\"color: #00af00; text-decoration-color: #00af00\">1</span>)        │             <span style=\"color: #00af00; text-decoration-color: #00af00\">0</span> │\n",
              "├─────────────────────────────────┼────────────────────────┼───────────────┤\n",
              "│ conv1d_17 (<span style=\"color: #0087ff; text-decoration-color: #0087ff\">Conv1D</span>)              │ (<span style=\"color: #00d7ff; text-decoration-color: #00d7ff\">None</span>, <span style=\"color: #00af00; text-decoration-color: #00af00\">2048</span>, <span style=\"color: #00af00; text-decoration-color: #00af00\">32</span>)       │           <span style=\"color: #00af00; text-decoration-color: #00af00\">256</span> │\n",
              "├─────────────────────────────────┼────────────────────────┼───────────────┤\n",
              "│ max_pooling1d_12 (<span style=\"color: #0087ff; text-decoration-color: #0087ff\">MaxPooling1D</span>) │ (<span style=\"color: #00d7ff; text-decoration-color: #00d7ff\">None</span>, <span style=\"color: #00af00; text-decoration-color: #00af00\">1024</span>, <span style=\"color: #00af00; text-decoration-color: #00af00\">32</span>)       │             <span style=\"color: #00af00; text-decoration-color: #00af00\">0</span> │\n",
              "├─────────────────────────────────┼────────────────────────┼───────────────┤\n",
              "│ conv1d_18 (<span style=\"color: #0087ff; text-decoration-color: #0087ff\">Conv1D</span>)              │ (<span style=\"color: #00d7ff; text-decoration-color: #00d7ff\">None</span>, <span style=\"color: #00af00; text-decoration-color: #00af00\">1024</span>, <span style=\"color: #00af00; text-decoration-color: #00af00\">64</span>)       │        <span style=\"color: #00af00; text-decoration-color: #00af00\">10,304</span> │\n",
              "├─────────────────────────────────┼────────────────────────┼───────────────┤\n",
              "│ max_pooling1d_13 (<span style=\"color: #0087ff; text-decoration-color: #0087ff\">MaxPooling1D</span>) │ (<span style=\"color: #00d7ff; text-decoration-color: #00d7ff\">None</span>, <span style=\"color: #00af00; text-decoration-color: #00af00\">512</span>, <span style=\"color: #00af00; text-decoration-color: #00af00\">64</span>)        │             <span style=\"color: #00af00; text-decoration-color: #00af00\">0</span> │\n",
              "├─────────────────────────────────┼────────────────────────┼───────────────┤\n",
              "│ conv1d_19 (<span style=\"color: #0087ff; text-decoration-color: #0087ff\">Conv1D</span>)              │ (<span style=\"color: #00d7ff; text-decoration-color: #00d7ff\">None</span>, <span style=\"color: #00af00; text-decoration-color: #00af00\">512</span>, <span style=\"color: #00af00; text-decoration-color: #00af00\">128</span>)       │        <span style=\"color: #00af00; text-decoration-color: #00af00\">24,704</span> │\n",
              "├─────────────────────────────────┼────────────────────────┼───────────────┤\n",
              "│ global_average_pooling1d_5      │ (<span style=\"color: #00d7ff; text-decoration-color: #00d7ff\">None</span>, <span style=\"color: #00af00; text-decoration-color: #00af00\">128</span>)            │             <span style=\"color: #00af00; text-decoration-color: #00af00\">0</span> │\n",
              "│ (<span style=\"color: #0087ff; text-decoration-color: #0087ff\">GlobalAveragePooling1D</span>)        │                        │               │\n",
              "├─────────────────────────────────┼────────────────────────┼───────────────┤\n",
              "│ dense_10 (<span style=\"color: #0087ff; text-decoration-color: #0087ff\">Dense</span>)                │ (<span style=\"color: #00d7ff; text-decoration-color: #00d7ff\">None</span>, <span style=\"color: #00af00; text-decoration-color: #00af00\">64</span>)             │         <span style=\"color: #00af00; text-decoration-color: #00af00\">8,256</span> │\n",
              "├─────────────────────────────────┼────────────────────────┼───────────────┤\n",
              "│ dropout_7 (<span style=\"color: #0087ff; text-decoration-color: #0087ff\">Dropout</span>)             │ (<span style=\"color: #00d7ff; text-decoration-color: #00d7ff\">None</span>, <span style=\"color: #00af00; text-decoration-color: #00af00\">64</span>)             │             <span style=\"color: #00af00; text-decoration-color: #00af00\">0</span> │\n",
              "├─────────────────────────────────┼────────────────────────┼───────────────┤\n",
              "│ dense_11 (<span style=\"color: #0087ff; text-decoration-color: #0087ff\">Dense</span>)                │ (<span style=\"color: #00d7ff; text-decoration-color: #00d7ff\">None</span>, <span style=\"color: #00af00; text-decoration-color: #00af00\">4</span>)              │           <span style=\"color: #00af00; text-decoration-color: #00af00\">260</span> │\n",
              "└─────────────────────────────────┴────────────────────────┴───────────────┘\n",
              "</pre>\n"
            ]
          },
          "metadata": {}
        },
        {
          "output_type": "display_data",
          "data": {
            "text/plain": [
              "\u001b[1m Total params: \u001b[0m\u001b[38;5;34m131,342\u001b[0m (513.06 KB)\n"
            ],
            "text/html": [
              "<pre style=\"white-space:pre;overflow-x:auto;line-height:normal;font-family:Menlo,'DejaVu Sans Mono',consolas,'Courier New',monospace\"><span style=\"font-weight: bold\"> Total params: </span><span style=\"color: #00af00; text-decoration-color: #00af00\">131,342</span> (513.06 KB)\n",
              "</pre>\n"
            ]
          },
          "metadata": {}
        },
        {
          "output_type": "display_data",
          "data": {
            "text/plain": [
              "\u001b[1m Trainable params: \u001b[0m\u001b[38;5;34m43,780\u001b[0m (171.02 KB)\n"
            ],
            "text/html": [
              "<pre style=\"white-space:pre;overflow-x:auto;line-height:normal;font-family:Menlo,'DejaVu Sans Mono',consolas,'Courier New',monospace\"><span style=\"font-weight: bold\"> Trainable params: </span><span style=\"color: #00af00; text-decoration-color: #00af00\">43,780</span> (171.02 KB)\n",
              "</pre>\n"
            ]
          },
          "metadata": {}
        },
        {
          "output_type": "display_data",
          "data": {
            "text/plain": [
              "\u001b[1m Non-trainable params: \u001b[0m\u001b[38;5;34m0\u001b[0m (0.00 B)\n"
            ],
            "text/html": [
              "<pre style=\"white-space:pre;overflow-x:auto;line-height:normal;font-family:Menlo,'DejaVu Sans Mono',consolas,'Courier New',monospace\"><span style=\"font-weight: bold\"> Non-trainable params: </span><span style=\"color: #00af00; text-decoration-color: #00af00\">0</span> (0.00 B)\n",
              "</pre>\n"
            ]
          },
          "metadata": {}
        },
        {
          "output_type": "display_data",
          "data": {
            "text/plain": [
              "\u001b[1m Optimizer params: \u001b[0m\u001b[38;5;34m87,562\u001b[0m (342.04 KB)\n"
            ],
            "text/html": [
              "<pre style=\"white-space:pre;overflow-x:auto;line-height:normal;font-family:Menlo,'DejaVu Sans Mono',consolas,'Courier New',monospace\"><span style=\"font-weight: bold\"> Optimizer params: </span><span style=\"color: #00af00; text-decoration-color: #00af00\">87,562</span> (342.04 KB)\n",
              "</pre>\n"
            ]
          },
          "metadata": {}
        },
        {
          "output_type": "stream",
          "name": "stdout",
          "text": [
            "\n",
            "Iniciando entrenamiento...\n",
            "Epoch 1/100\n",
            "\u001b[1m76/76\u001b[0m \u001b[32m━━━━━━━━━━━━━━━━━━━━\u001b[0m\u001b[37m\u001b[0m \u001b[1m1s\u001b[0m 17ms/step - accuracy: 0.9670 - loss: 0.1042 - val_accuracy: 0.9636 - val_loss: 0.1005\n",
            "Epoch 2/100\n",
            "\u001b[1m76/76\u001b[0m \u001b[32m━━━━━━━━━━━━━━━━━━━━\u001b[0m\u001b[37m\u001b[0m \u001b[1m1s\u001b[0m 15ms/step - accuracy: 0.9628 - loss: 0.0966 - val_accuracy: 0.9438 - val_loss: 0.1204\n",
            "Epoch 3/100\n",
            "\u001b[1m76/76\u001b[0m \u001b[32m━━━━━━━━━━━━━━━━━━━━\u001b[0m\u001b[37m\u001b[0m \u001b[1m1s\u001b[0m 15ms/step - accuracy: 0.9680 - loss: 0.0878 - val_accuracy: 0.9124 - val_loss: 0.2171\n",
            "Epoch 4/100\n",
            "\u001b[1m76/76\u001b[0m \u001b[32m━━━━━━━━━━━━━━━━━━━━\u001b[0m\u001b[37m\u001b[0m \u001b[1m1s\u001b[0m 17ms/step - accuracy: 0.9487 - loss: 0.1445 - val_accuracy: 0.9537 - val_loss: 0.1117\n",
            "Epoch 5/100\n",
            "\u001b[1m76/76\u001b[0m \u001b[32m━━━━━━━━━━━━━━━━━━━━\u001b[0m\u001b[37m\u001b[0m \u001b[1m1s\u001b[0m 17ms/step - accuracy: 0.9611 - loss: 0.1182 - val_accuracy: 0.9752 - val_loss: 0.0721\n",
            "Epoch 6/100\n",
            "\u001b[1m76/76\u001b[0m \u001b[32m━━━━━━━━━━━━━━━━━━━━\u001b[0m\u001b[37m\u001b[0m \u001b[1m1s\u001b[0m 15ms/step - accuracy: 0.9654 - loss: 0.0987 - val_accuracy: 0.9289 - val_loss: 0.1613\n",
            "Epoch 7/100\n",
            "\u001b[1m76/76\u001b[0m \u001b[32m━━━━━━━━━━━━━━━━━━━━\u001b[0m\u001b[37m\u001b[0m \u001b[1m1s\u001b[0m 15ms/step - accuracy: 0.9431 - loss: 0.1605 - val_accuracy: 0.9851 - val_loss: 0.0682\n",
            "Epoch 8/100\n",
            "\u001b[1m76/76\u001b[0m \u001b[32m━━━━━━━━━━━━━━━━━━━━\u001b[0m\u001b[37m\u001b[0m \u001b[1m1s\u001b[0m 15ms/step - accuracy: 0.9755 - loss: 0.0868 - val_accuracy: 0.9669 - val_loss: 0.0812\n",
            "Epoch 9/100\n",
            "\u001b[1m76/76\u001b[0m \u001b[32m━━━━━━━━━━━━━━━━━━━━\u001b[0m\u001b[37m\u001b[0m \u001b[1m1s\u001b[0m 15ms/step - accuracy: 0.9679 - loss: 0.0884 - val_accuracy: 0.9702 - val_loss: 0.0727\n",
            "Epoch 10/100\n",
            "\u001b[1m76/76\u001b[0m \u001b[32m━━━━━━━━━━━━━━━━━━━━\u001b[0m\u001b[37m\u001b[0m \u001b[1m1s\u001b[0m 15ms/step - accuracy: 0.9746 - loss: 0.0899 - val_accuracy: 0.9769 - val_loss: 0.0888\n",
            "Epoch 11/100\n",
            "\u001b[1m76/76\u001b[0m \u001b[32m━━━━━━━━━━━━━━━━━━━━\u001b[0m\u001b[37m\u001b[0m \u001b[1m1s\u001b[0m 15ms/step - accuracy: 0.9544 - loss: 0.1184 - val_accuracy: 0.7785 - val_loss: 0.5680\n",
            "Epoch 12/100\n",
            "\u001b[1m76/76\u001b[0m \u001b[32m━━━━━━━━━━━━━━━━━━━━\u001b[0m\u001b[37m\u001b[0m \u001b[1m1s\u001b[0m 15ms/step - accuracy: 0.9058 - loss: 0.2528 - val_accuracy: 0.9620 - val_loss: 0.1171\n",
            "Epoch 13/100\n",
            "\u001b[1m76/76\u001b[0m \u001b[32m━━━━━━━━━━━━━━━━━━━━\u001b[0m\u001b[37m\u001b[0m \u001b[1m1s\u001b[0m 14ms/step - accuracy: 0.9625 - loss: 0.1056 - val_accuracy: 0.9736 - val_loss: 0.0806\n",
            "Epoch 14/100\n",
            "\u001b[1m76/76\u001b[0m \u001b[32m━━━━━━━━━━━━━━━━━━━━\u001b[0m\u001b[37m\u001b[0m \u001b[1m1s\u001b[0m 16ms/step - accuracy: 0.9699 - loss: 0.0842 - val_accuracy: 0.9620 - val_loss: 0.0899\n",
            "Epoch 15/100\n",
            "\u001b[1m76/76\u001b[0m \u001b[32m━━━━━━━━━━━━━━━━━━━━\u001b[0m\u001b[37m\u001b[0m \u001b[1m1s\u001b[0m 17ms/step - accuracy: 0.9784 - loss: 0.0750 - val_accuracy: 0.9851 - val_loss: 0.0600\n",
            "Epoch 16/100\n",
            "\u001b[1m76/76\u001b[0m \u001b[32m━━━━━━━━━━━━━━━━━━━━\u001b[0m\u001b[37m\u001b[0m \u001b[1m1s\u001b[0m 15ms/step - accuracy: 0.9713 - loss: 0.0911 - val_accuracy: 0.9785 - val_loss: 0.0698\n",
            "Epoch 17/100\n",
            "\u001b[1m76/76\u001b[0m \u001b[32m━━━━━━━━━━━━━━━━━━━━\u001b[0m\u001b[37m\u001b[0m \u001b[1m1s\u001b[0m 15ms/step - accuracy: 0.9727 - loss: 0.0929 - val_accuracy: 0.9636 - val_loss: 0.1024\n",
            "Epoch 18/100\n",
            "\u001b[1m76/76\u001b[0m \u001b[32m━━━━━━━━━━━━━━━━━━━━\u001b[0m\u001b[37m\u001b[0m \u001b[1m1s\u001b[0m 15ms/step - accuracy: 0.9757 - loss: 0.0765 - val_accuracy: 0.9818 - val_loss: 0.0588\n",
            "Epoch 19/100\n",
            "\u001b[1m76/76\u001b[0m \u001b[32m━━━━━━━━━━━━━━━━━━━━\u001b[0m\u001b[37m\u001b[0m \u001b[1m1s\u001b[0m 15ms/step - accuracy: 0.9783 - loss: 0.0676 - val_accuracy: 0.9917 - val_loss: 0.0458\n",
            "Epoch 20/100\n",
            "\u001b[1m76/76\u001b[0m \u001b[32m━━━━━━━━━━━━━━━━━━━━\u001b[0m\u001b[37m\u001b[0m \u001b[1m1s\u001b[0m 15ms/step - accuracy: 0.9607 - loss: 0.1024 - val_accuracy: 0.9802 - val_loss: 0.0579\n",
            "Epoch 21/100\n",
            "\u001b[1m76/76\u001b[0m \u001b[32m━━━━━━━━━━━━━━━━━━━━\u001b[0m\u001b[37m\u001b[0m \u001b[1m1s\u001b[0m 15ms/step - accuracy: 0.9823 - loss: 0.0645 - val_accuracy: 0.9868 - val_loss: 0.0658\n",
            "Epoch 22/100\n",
            "\u001b[1m76/76\u001b[0m \u001b[32m━━━━━━━━━━━━━━━━━━━━\u001b[0m\u001b[37m\u001b[0m \u001b[1m1s\u001b[0m 14ms/step - accuracy: 0.9764 - loss: 0.0809 - val_accuracy: 0.9818 - val_loss: 0.0525\n",
            "Epoch 23/100\n",
            "\u001b[1m76/76\u001b[0m \u001b[32m━━━━━━━━━━━━━━━━━━━━\u001b[0m\u001b[37m\u001b[0m \u001b[1m1s\u001b[0m 15ms/step - accuracy: 0.9787 - loss: 0.0677 - val_accuracy: 0.9587 - val_loss: 0.0920\n",
            "Epoch 24/100\n",
            "\u001b[1m76/76\u001b[0m \u001b[32m━━━━━━━━━━━━━━━━━━━━\u001b[0m\u001b[37m\u001b[0m \u001b[1m1s\u001b[0m 15ms/step - accuracy: 0.9487 - loss: 0.1383 - val_accuracy: 0.9570 - val_loss: 0.1809\n",
            "Epoch 25/100\n",
            "\u001b[1m76/76\u001b[0m \u001b[32m━━━━━━━━━━━━━━━━━━━━\u001b[0m\u001b[37m\u001b[0m \u001b[1m1s\u001b[0m 16ms/step - accuracy: 0.9621 - loss: 0.1294 - val_accuracy: 0.9851 - val_loss: 0.0452\n",
            "Epoch 26/100\n",
            "\u001b[1m76/76\u001b[0m \u001b[32m━━━━━━━━━━━━━━━━━━━━\u001b[0m\u001b[37m\u001b[0m \u001b[1m2s\u001b[0m 15ms/step - accuracy: 0.9840 - loss: 0.0580 - val_accuracy: 0.9835 - val_loss: 0.0529\n",
            "Epoch 27/100\n",
            "\u001b[1m76/76\u001b[0m \u001b[32m━━━━━━━━━━━━━━━━━━━━\u001b[0m\u001b[37m\u001b[0m \u001b[1m1s\u001b[0m 15ms/step - accuracy: 0.9809 - loss: 0.0631 - val_accuracy: 0.9835 - val_loss: 0.0409\n",
            "Epoch 28/100\n",
            "\u001b[1m76/76\u001b[0m \u001b[32m━━━━━━━━━━━━━━━━━━━━\u001b[0m\u001b[37m\u001b[0m \u001b[1m1s\u001b[0m 14ms/step - accuracy: 0.9822 - loss: 0.0550 - val_accuracy: 0.9851 - val_loss: 0.0530\n",
            "Epoch 29/100\n",
            "\u001b[1m76/76\u001b[0m \u001b[32m━━━━━━━━━━━━━━━━━━━━\u001b[0m\u001b[37m\u001b[0m \u001b[1m1s\u001b[0m 14ms/step - accuracy: 0.9781 - loss: 0.0732 - val_accuracy: 0.9702 - val_loss: 0.0787\n",
            "Epoch 30/100\n",
            "\u001b[1m76/76\u001b[0m \u001b[32m━━━━━━━━━━━━━━━━━━━━\u001b[0m\u001b[37m\u001b[0m \u001b[1m1s\u001b[0m 14ms/step - accuracy: 0.9753 - loss: 0.0711 - val_accuracy: 0.9950 - val_loss: 0.0322\n",
            "Epoch 31/100\n",
            "\u001b[1m76/76\u001b[0m \u001b[32m━━━━━━━━━━━━━━━━━━━━\u001b[0m\u001b[37m\u001b[0m \u001b[1m1s\u001b[0m 15ms/step - accuracy: 0.9823 - loss: 0.0561 - val_accuracy: 0.9835 - val_loss: 0.0594\n",
            "Epoch 32/100\n",
            "\u001b[1m76/76\u001b[0m \u001b[32m━━━━━━━━━━━━━━━━━━━━\u001b[0m\u001b[37m\u001b[0m \u001b[1m1s\u001b[0m 14ms/step - accuracy: 0.9688 - loss: 0.0929 - val_accuracy: 0.9669 - val_loss: 0.0869\n",
            "Epoch 33/100\n",
            "\u001b[1m76/76\u001b[0m \u001b[32m━━━━━━━━━━━━━━━━━━━━\u001b[0m\u001b[37m\u001b[0m \u001b[1m1s\u001b[0m 15ms/step - accuracy: 0.9765 - loss: 0.0710 - val_accuracy: 0.9917 - val_loss: 0.0451\n",
            "Epoch 34/100\n",
            "\u001b[1m76/76\u001b[0m \u001b[32m━━━━━━━━━━━━━━━━━━━━\u001b[0m\u001b[37m\u001b[0m \u001b[1m1s\u001b[0m 16ms/step - accuracy: 0.9845 - loss: 0.0488 - val_accuracy: 0.9917 - val_loss: 0.0468\n",
            "Epoch 35/100\n",
            "\u001b[1m76/76\u001b[0m \u001b[32m━━━━━━━━━━━━━━━━━━━━\u001b[0m\u001b[37m\u001b[0m \u001b[1m1s\u001b[0m 16ms/step - accuracy: 0.9780 - loss: 0.0624 - val_accuracy: 0.9934 - val_loss: 0.0348\n",
            "Epoch 36/100\n",
            "\u001b[1m76/76\u001b[0m \u001b[32m━━━━━━━━━━━━━━━━━━━━\u001b[0m\u001b[37m\u001b[0m \u001b[1m1s\u001b[0m 14ms/step - accuracy: 0.9856 - loss: 0.0485 - val_accuracy: 0.9884 - val_loss: 0.0340\n",
            "Epoch 37/100\n",
            "\u001b[1m76/76\u001b[0m \u001b[32m━━━━━━━━━━━━━━━━━━━━\u001b[0m\u001b[37m\u001b[0m \u001b[1m1s\u001b[0m 15ms/step - accuracy: 0.9892 - loss: 0.0419 - val_accuracy: 0.9835 - val_loss: 0.0482\n",
            "Epoch 38/100\n",
            "\u001b[1m76/76\u001b[0m \u001b[32m━━━━━━━━━━━━━━━━━━━━\u001b[0m\u001b[37m\u001b[0m \u001b[1m1s\u001b[0m 15ms/step - accuracy: 0.9840 - loss: 0.0482 - val_accuracy: 0.9917 - val_loss: 0.0328\n",
            "Epoch 39/100\n",
            "\u001b[1m76/76\u001b[0m \u001b[32m━━━━━━━━━━━━━━━━━━━━\u001b[0m\u001b[37m\u001b[0m \u001b[1m1s\u001b[0m 15ms/step - accuracy: 0.9780 - loss: 0.0600 - val_accuracy: 0.9785 - val_loss: 0.0540\n",
            "Epoch 40/100\n",
            "\u001b[1m76/76\u001b[0m \u001b[32m━━━━━━━━━━━━━━━━━━━━\u001b[0m\u001b[37m\u001b[0m \u001b[1m1s\u001b[0m 15ms/step - accuracy: 0.9828 - loss: 0.0579 - val_accuracy: 0.9736 - val_loss: 0.0600\n",
            "Epoch 41/100\n",
            "\u001b[1m76/76\u001b[0m \u001b[32m━━━━━━━━━━━━━━━━━━━━\u001b[0m\u001b[37m\u001b[0m \u001b[1m1s\u001b[0m 15ms/step - accuracy: 0.9814 - loss: 0.0618 - val_accuracy: 0.9934 - val_loss: 0.0247\n",
            "Epoch 42/100\n",
            "\u001b[1m76/76\u001b[0m \u001b[32m━━━━━━━━━━━━━━━━━━━━\u001b[0m\u001b[37m\u001b[0m \u001b[1m1s\u001b[0m 15ms/step - accuracy: 0.9794 - loss: 0.0611 - val_accuracy: 0.9405 - val_loss: 0.1491\n",
            "Epoch 43/100\n",
            "\u001b[1m76/76\u001b[0m \u001b[32m━━━━━━━━━━━━━━━━━━━━\u001b[0m\u001b[37m\u001b[0m \u001b[1m1s\u001b[0m 15ms/step - accuracy: 0.9749 - loss: 0.0775 - val_accuracy: 0.9884 - val_loss: 0.0364\n",
            "Epoch 44/100\n",
            "\u001b[1m76/76\u001b[0m \u001b[32m━━━━━━━━━━━━━━━━━━━━\u001b[0m\u001b[37m\u001b[0m \u001b[1m1s\u001b[0m 16ms/step - accuracy: 0.9900 - loss: 0.0439 - val_accuracy: 0.9835 - val_loss: 0.0579\n",
            "Epoch 45/100\n",
            "\u001b[1m76/76\u001b[0m \u001b[32m━━━━━━━━━━━━━━━━━━━━\u001b[0m\u001b[37m\u001b[0m \u001b[1m2s\u001b[0m 15ms/step - accuracy: 0.9794 - loss: 0.0678 - val_accuracy: 0.9901 - val_loss: 0.0380\n",
            "Epoch 46/100\n",
            "\u001b[1m76/76\u001b[0m \u001b[32m━━━━━━━━━━━━━━━━━━━━\u001b[0m\u001b[37m\u001b[0m \u001b[1m1s\u001b[0m 15ms/step - accuracy: 0.9692 - loss: 0.0870 - val_accuracy: 0.9917 - val_loss: 0.0304\n",
            "Epoch 47/100\n",
            "\u001b[1m76/76\u001b[0m \u001b[32m━━━━━━━━━━━━━━━━━━━━\u001b[0m\u001b[37m\u001b[0m \u001b[1m1s\u001b[0m 15ms/step - accuracy: 0.9913 - loss: 0.0334 - val_accuracy: 0.9917 - val_loss: 0.0230\n",
            "Epoch 48/100\n",
            "\u001b[1m76/76\u001b[0m \u001b[32m━━━━━━━━━━━━━━━━━━━━\u001b[0m\u001b[37m\u001b[0m \u001b[1m1s\u001b[0m 15ms/step - accuracy: 0.9898 - loss: 0.0367 - val_accuracy: 0.9802 - val_loss: 0.0588\n",
            "Epoch 49/100\n",
            "\u001b[1m76/76\u001b[0m \u001b[32m━━━━━━━━━━━━━━━━━━━━\u001b[0m\u001b[37m\u001b[0m \u001b[1m1s\u001b[0m 15ms/step - accuracy: 0.9846 - loss: 0.0577 - val_accuracy: 0.9934 - val_loss: 0.0276\n",
            "Epoch 50/100\n",
            "\u001b[1m76/76\u001b[0m \u001b[32m━━━━━━━━━━━━━━━━━━━━\u001b[0m\u001b[37m\u001b[0m \u001b[1m1s\u001b[0m 15ms/step - accuracy: 0.9850 - loss: 0.0403 - val_accuracy: 0.9785 - val_loss: 0.0564\n",
            "Epoch 51/100\n",
            "\u001b[1m76/76\u001b[0m \u001b[32m━━━━━━━━━━━━━━━━━━━━\u001b[0m\u001b[37m\u001b[0m \u001b[1m1s\u001b[0m 15ms/step - accuracy: 0.9799 - loss: 0.0663 - val_accuracy: 0.9917 - val_loss: 0.0285\n",
            "Epoch 52/100\n",
            "\u001b[1m76/76\u001b[0m \u001b[32m━━━━━━━━━━━━━━━━━━━━\u001b[0m\u001b[37m\u001b[0m \u001b[1m1s\u001b[0m 15ms/step - accuracy: 0.9895 - loss: 0.0438 - val_accuracy: 0.9884 - val_loss: 0.0370\n",
            "Epoch 53/100\n",
            "\u001b[1m76/76\u001b[0m \u001b[32m━━━━━━━━━━━━━━━━━━━━\u001b[0m\u001b[37m\u001b[0m \u001b[1m1s\u001b[0m 16ms/step - accuracy: 0.9882 - loss: 0.0448 - val_accuracy: 0.9868 - val_loss: 0.0488\n",
            "Epoch 54/100\n",
            "\u001b[1m76/76\u001b[0m \u001b[32m━━━━━━━━━━━━━━━━━━━━\u001b[0m\u001b[37m\u001b[0m \u001b[1m1s\u001b[0m 16ms/step - accuracy: 0.9550 - loss: 0.1267 - val_accuracy: 0.9818 - val_loss: 0.0676\n",
            "Epoch 55/100\n",
            "\u001b[1m76/76\u001b[0m \u001b[32m━━━━━━━━━━━━━━━━━━━━\u001b[0m\u001b[37m\u001b[0m \u001b[1m1s\u001b[0m 15ms/step - accuracy: 0.9797 - loss: 0.0589 - val_accuracy: 0.9950 - val_loss: 0.0282\n",
            "Epoch 56/100\n",
            "\u001b[1m76/76\u001b[0m \u001b[32m━━━━━━━━━━━━━━━━━━━━\u001b[0m\u001b[37m\u001b[0m \u001b[1m1s\u001b[0m 15ms/step - accuracy: 0.9861 - loss: 0.0419 - val_accuracy: 0.9967 - val_loss: 0.0282\n",
            "Epoch 57/100\n",
            "\u001b[1m76/76\u001b[0m \u001b[32m━━━━━━━━━━━━━━━━━━━━\u001b[0m\u001b[37m\u001b[0m \u001b[1m1s\u001b[0m 15ms/step - accuracy: 0.9770 - loss: 0.0642 - val_accuracy: 0.9950 - val_loss: 0.0197\n",
            "Epoch 58/100\n",
            "\u001b[1m76/76\u001b[0m \u001b[32m━━━━━━━━━━━━━━━━━━━━\u001b[0m\u001b[37m\u001b[0m \u001b[1m1s\u001b[0m 15ms/step - accuracy: 0.9918 - loss: 0.0358 - val_accuracy: 0.9983 - val_loss: 0.0196\n",
            "Epoch 59/100\n",
            "\u001b[1m76/76\u001b[0m \u001b[32m━━━━━━━━━━━━━━━━━━━━\u001b[0m\u001b[37m\u001b[0m \u001b[1m1s\u001b[0m 15ms/step - accuracy: 0.9894 - loss: 0.0363 - val_accuracy: 0.9950 - val_loss: 0.0206\n",
            "Epoch 60/100\n",
            "\u001b[1m76/76\u001b[0m \u001b[32m━━━━━━━━━━━━━━━━━━━━\u001b[0m\u001b[37m\u001b[0m \u001b[1m1s\u001b[0m 15ms/step - accuracy: 0.9929 - loss: 0.0296 - val_accuracy: 0.9934 - val_loss: 0.0304\n",
            "Epoch 61/100\n",
            "\u001b[1m76/76\u001b[0m \u001b[32m━━━━━━━━━━━━━━━━━━━━\u001b[0m\u001b[37m\u001b[0m \u001b[1m1s\u001b[0m 15ms/step - accuracy: 0.9883 - loss: 0.0336 - val_accuracy: 0.9901 - val_loss: 0.0461\n",
            "Epoch 62/100\n",
            "\u001b[1m76/76\u001b[0m \u001b[32m━━━━━━━━━━━━━━━━━━━━\u001b[0m\u001b[37m\u001b[0m \u001b[1m1s\u001b[0m 15ms/step - accuracy: 0.9865 - loss: 0.0455 - val_accuracy: 0.9983 - val_loss: 0.0140\n",
            "Epoch 63/100\n",
            "\u001b[1m76/76\u001b[0m \u001b[32m━━━━━━━━━━━━━━━━━━━━\u001b[0m\u001b[37m\u001b[0m \u001b[1m1s\u001b[0m 15ms/step - accuracy: 0.9928 - loss: 0.0255 - val_accuracy: 1.0000 - val_loss: 0.0164\n",
            "Epoch 64/100\n",
            "\u001b[1m76/76\u001b[0m \u001b[32m━━━━━━━━━━━━━━━━━━━━\u001b[0m\u001b[37m\u001b[0m \u001b[1m1s\u001b[0m 16ms/step - accuracy: 0.9945 - loss: 0.0252 - val_accuracy: 0.9901 - val_loss: 0.0227\n",
            "Epoch 65/100\n",
            "\u001b[1m76/76\u001b[0m \u001b[32m━━━━━━━━━━━━━━━━━━━━\u001b[0m\u001b[37m\u001b[0m \u001b[1m1s\u001b[0m 15ms/step - accuracy: 0.9559 - loss: 0.1257 - val_accuracy: 0.8430 - val_loss: 0.3551\n",
            "Epoch 66/100\n",
            "\u001b[1m76/76\u001b[0m \u001b[32m━━━━━━━━━━━━━━━━━━━━\u001b[0m\u001b[37m\u001b[0m \u001b[1m1s\u001b[0m 18ms/step - accuracy: 0.9363 - loss: 0.1958 - val_accuracy: 0.9917 - val_loss: 0.0322\n",
            "Epoch 67/100\n",
            "\u001b[1m76/76\u001b[0m \u001b[32m━━━━━━━━━━━━━━━━━━━━\u001b[0m\u001b[37m\u001b[0m \u001b[1m2s\u001b[0m 15ms/step - accuracy: 0.9900 - loss: 0.0381 - val_accuracy: 0.9917 - val_loss: 0.0284\n",
            "Epoch 68/100\n",
            "\u001b[1m76/76\u001b[0m \u001b[32m━━━━━━━━━━━━━━━━━━━━\u001b[0m\u001b[37m\u001b[0m \u001b[1m1s\u001b[0m 15ms/step - accuracy: 0.9892 - loss: 0.0395 - val_accuracy: 0.9884 - val_loss: 0.0455\n",
            "Epoch 69/100\n",
            "\u001b[1m76/76\u001b[0m \u001b[32m━━━━━━━━━━━━━━━━━━━━\u001b[0m\u001b[37m\u001b[0m \u001b[1m1s\u001b[0m 15ms/step - accuracy: 0.9905 - loss: 0.0335 - val_accuracy: 0.9851 - val_loss: 0.0433\n",
            "Epoch 70/100\n",
            "\u001b[1m76/76\u001b[0m \u001b[32m━━━━━━━━━━━━━━━━━━━━\u001b[0m\u001b[37m\u001b[0m \u001b[1m1s\u001b[0m 15ms/step - accuracy: 0.9916 - loss: 0.0328 - val_accuracy: 1.0000 - val_loss: 0.0154\n",
            "Epoch 71/100\n",
            "\u001b[1m76/76\u001b[0m \u001b[32m━━━━━━━━━━━━━━━━━━━━\u001b[0m\u001b[37m\u001b[0m \u001b[1m1s\u001b[0m 15ms/step - accuracy: 0.9892 - loss: 0.0398 - val_accuracy: 0.9884 - val_loss: 0.0377\n",
            "Epoch 72/100\n",
            "\u001b[1m76/76\u001b[0m \u001b[32m━━━━━━━━━━━━━━━━━━━━\u001b[0m\u001b[37m\u001b[0m \u001b[1m1s\u001b[0m 15ms/step - accuracy: 0.9343 - loss: 0.2037 - val_accuracy: 0.9934 - val_loss: 0.0260\n",
            "Epoch 73/100\n",
            "\u001b[1m76/76\u001b[0m \u001b[32m━━━━━━━━━━━━━━━━━━━━\u001b[0m\u001b[37m\u001b[0m \u001b[1m2s\u001b[0m 20ms/step - accuracy: 0.9939 - loss: 0.0312 - val_accuracy: 0.9950 - val_loss: 0.0188\n",
            "Epoch 74/100\n",
            "\u001b[1m76/76\u001b[0m \u001b[32m━━━━━━━━━━━━━━━━━━━━\u001b[0m\u001b[37m\u001b[0m \u001b[1m2s\u001b[0m 19ms/step - accuracy: 0.9891 - loss: 0.0373 - val_accuracy: 0.9967 - val_loss: 0.0122\n",
            "Epoch 75/100\n",
            "\u001b[1m76/76\u001b[0m \u001b[32m━━━━━━━━━━━━━━━━━━━━\u001b[0m\u001b[37m\u001b[0m \u001b[1m1s\u001b[0m 15ms/step - accuracy: 0.9916 - loss: 0.0305 - val_accuracy: 0.9818 - val_loss: 0.0419\n",
            "Epoch 76/100\n",
            "\u001b[1m76/76\u001b[0m \u001b[32m━━━━━━━━━━━━━━━━━━━━\u001b[0m\u001b[37m\u001b[0m \u001b[1m1s\u001b[0m 15ms/step - accuracy: 0.9902 - loss: 0.0264 - val_accuracy: 0.9950 - val_loss: 0.0175\n",
            "Epoch 77/100\n",
            "\u001b[1m76/76\u001b[0m \u001b[32m━━━━━━━━━━━━━━━━━━━━\u001b[0m\u001b[37m\u001b[0m \u001b[1m1s\u001b[0m 14ms/step - accuracy: 0.9951 - loss: 0.0212 - val_accuracy: 1.0000 - val_loss: 0.0135\n",
            "Epoch 78/100\n",
            "\u001b[1m76/76\u001b[0m \u001b[32m━━━━━━━━━━━━━━━━━━━━\u001b[0m\u001b[37m\u001b[0m \u001b[1m1s\u001b[0m 15ms/step - accuracy: 0.9881 - loss: 0.0319 - val_accuracy: 0.9901 - val_loss: 0.0359\n",
            "Epoch 79/100\n",
            "\u001b[1m76/76\u001b[0m \u001b[32m━━━━━━━━━━━━━━━━━━━━\u001b[0m\u001b[37m\u001b[0m \u001b[1m1s\u001b[0m 15ms/step - accuracy: 0.9926 - loss: 0.0416 - val_accuracy: 0.9950 - val_loss: 0.0215\n",
            "Epoch 80/100\n",
            "\u001b[1m76/76\u001b[0m \u001b[32m━━━━━━━━━━━━━━━━━━━━\u001b[0m\u001b[37m\u001b[0m \u001b[1m1s\u001b[0m 15ms/step - accuracy: 0.9937 - loss: 0.0249 - val_accuracy: 0.9901 - val_loss: 0.0367\n",
            "Epoch 81/100\n",
            "\u001b[1m76/76\u001b[0m \u001b[32m━━━━━━━━━━━━━━━━━━━━\u001b[0m\u001b[37m\u001b[0m \u001b[1m1s\u001b[0m 15ms/step - accuracy: 0.9817 - loss: 0.0483 - val_accuracy: 1.0000 - val_loss: 0.0100\n",
            "Epoch 82/100\n",
            "\u001b[1m76/76\u001b[0m \u001b[32m━━━━━━━━━━━━━━━━━━━━\u001b[0m\u001b[37m\u001b[0m \u001b[1m1s\u001b[0m 15ms/step - accuracy: 0.9977 - loss: 0.0183 - val_accuracy: 1.0000 - val_loss: 0.0113\n",
            "Epoch 83/100\n",
            "\u001b[1m76/76\u001b[0m \u001b[32m━━━━━━━━━━━━━━━━━━━━\u001b[0m\u001b[37m\u001b[0m \u001b[1m1s\u001b[0m 17ms/step - accuracy: 0.9837 - loss: 0.0471 - val_accuracy: 1.0000 - val_loss: 0.0145\n",
            "Epoch 84/100\n",
            "\u001b[1m76/76\u001b[0m \u001b[32m━━━━━━━━━━━━━━━━━━━━\u001b[0m\u001b[37m\u001b[0m \u001b[1m1s\u001b[0m 16ms/step - accuracy: 0.9946 - loss: 0.0295 - val_accuracy: 1.0000 - val_loss: 0.0081\n",
            "Epoch 85/100\n",
            "\u001b[1m76/76\u001b[0m \u001b[32m━━━━━━━━━━━━━━━━━━━━\u001b[0m\u001b[37m\u001b[0m \u001b[1m1s\u001b[0m 15ms/step - accuracy: 0.9888 - loss: 0.0346 - val_accuracy: 1.0000 - val_loss: 0.0108\n",
            "Epoch 86/100\n",
            "\u001b[1m76/76\u001b[0m \u001b[32m━━━━━━━━━━━━━━━━━━━━\u001b[0m\u001b[37m\u001b[0m \u001b[1m1s\u001b[0m 15ms/step - accuracy: 0.9838 - loss: 0.0463 - val_accuracy: 0.9950 - val_loss: 0.0177\n",
            "Epoch 87/100\n",
            "\u001b[1m76/76\u001b[0m \u001b[32m━━━━━━━━━━━━━━━━━━━━\u001b[0m\u001b[37m\u001b[0m \u001b[1m1s\u001b[0m 15ms/step - accuracy: 0.9950 - loss: 0.0183 - val_accuracy: 0.9917 - val_loss: 0.0282\n",
            "Epoch 88/100\n",
            "\u001b[1m76/76\u001b[0m \u001b[32m━━━━━━━━━━━━━━━━━━━━\u001b[0m\u001b[37m\u001b[0m \u001b[1m1s\u001b[0m 15ms/step - accuracy: 0.9861 - loss: 0.0467 - val_accuracy: 0.9934 - val_loss: 0.0251\n",
            "Epoch 89/100\n",
            "\u001b[1m76/76\u001b[0m \u001b[32m━━━━━━━━━━━━━━━━━━━━\u001b[0m\u001b[37m\u001b[0m \u001b[1m1s\u001b[0m 15ms/step - accuracy: 0.9797 - loss: 0.0568 - val_accuracy: 0.9917 - val_loss: 0.0248\n",
            "Epoch 90/100\n",
            "\u001b[1m76/76\u001b[0m \u001b[32m━━━━━━━━━━━━━━━━━━━━\u001b[0m\u001b[37m\u001b[0m \u001b[1m1s\u001b[0m 15ms/step - accuracy: 0.9961 - loss: 0.0233 - val_accuracy: 1.0000 - val_loss: 0.0066\n",
            "Epoch 91/100\n",
            "\u001b[1m76/76\u001b[0m \u001b[32m━━━━━━━━━━━━━━━━━━━━\u001b[0m\u001b[37m\u001b[0m \u001b[1m1s\u001b[0m 15ms/step - accuracy: 0.9617 - loss: 0.1093 - val_accuracy: 0.9967 - val_loss: 0.0243\n",
            "Epoch 92/100\n",
            "\u001b[1m76/76\u001b[0m \u001b[32m━━━━━━━━━━━━━━━━━━━━\u001b[0m\u001b[37m\u001b[0m \u001b[1m1s\u001b[0m 15ms/step - accuracy: 0.9958 - loss: 0.0255 - val_accuracy: 1.0000 - val_loss: 0.0132\n",
            "Epoch 93/100\n",
            "\u001b[1m76/76\u001b[0m \u001b[32m━━━━━━━━━━━━━━━━━━━━\u001b[0m\u001b[37m\u001b[0m \u001b[1m1s\u001b[0m 16ms/step - accuracy: 0.9875 - loss: 0.0436 - val_accuracy: 0.9950 - val_loss: 0.0239\n",
            "Epoch 94/100\n",
            "\u001b[1m76/76\u001b[0m \u001b[32m━━━━━━━━━━━━━━━━━━━━\u001b[0m\u001b[37m\u001b[0m \u001b[1m1s\u001b[0m 17ms/step - accuracy: 0.9929 - loss: 0.0230 - val_accuracy: 0.9950 - val_loss: 0.0210\n",
            "Epoch 95/100\n",
            "\u001b[1m76/76\u001b[0m \u001b[32m━━━━━━━━━━━━━━━━━━━━\u001b[0m\u001b[37m\u001b[0m \u001b[1m1s\u001b[0m 15ms/step - accuracy: 0.9937 - loss: 0.0238 - val_accuracy: 0.9471 - val_loss: 0.1044\n",
            "Epoch 96/100\n",
            "\u001b[1m76/76\u001b[0m \u001b[32m━━━━━━━━━━━━━━━━━━━━\u001b[0m\u001b[37m\u001b[0m \u001b[1m1s\u001b[0m 15ms/step - accuracy: 0.9726 - loss: 0.0705 - val_accuracy: 1.0000 - val_loss: 0.0095\n",
            "Epoch 97/100\n",
            "\u001b[1m76/76\u001b[0m \u001b[32m━━━━━━━━━━━━━━━━━━━━\u001b[0m\u001b[37m\u001b[0m \u001b[1m1s\u001b[0m 15ms/step - accuracy: 0.9939 - loss: 0.0220 - val_accuracy: 1.0000 - val_loss: 0.0065\n",
            "Epoch 98/100\n",
            "\u001b[1m76/76\u001b[0m \u001b[32m━━━━━━━━━━━━━━━━━━━━\u001b[0m\u001b[37m\u001b[0m \u001b[1m1s\u001b[0m 15ms/step - accuracy: 0.9949 - loss: 0.0228 - val_accuracy: 1.0000 - val_loss: 0.0075\n",
            "Epoch 99/100\n",
            "\u001b[1m76/76\u001b[0m \u001b[32m━━━━━━━━━━━━━━━━━━━━\u001b[0m\u001b[37m\u001b[0m \u001b[1m1s\u001b[0m 15ms/step - accuracy: 0.9943 - loss: 0.0168 - val_accuracy: 0.9967 - val_loss: 0.0113\n",
            "Epoch 100/100\n",
            "\u001b[1m76/76\u001b[0m \u001b[32m━━━━━━━━━━━━━━━━━━━━\u001b[0m\u001b[37m\u001b[0m \u001b[1m1s\u001b[0m 15ms/step - accuracy: 0.9977 - loss: 0.0168 - val_accuracy: 0.9950 - val_loss: 0.0193\n",
            "\n",
            "Evaluando en el conjunto de test (limpio)...\n",
            "\u001b[1m29/29\u001b[0m \u001b[32m━━━━━━━━━━━━━━━━━━━━\u001b[0m\u001b[37m\u001b[0m \u001b[1m0s\u001b[0m 3ms/step - accuracy: 1.0000 - loss: 0.0057\n",
            "Test Loss: 0.0058\n",
            "Test Accuracy: 100.00%\n"
          ]
        }
      ]
    },
    {
      "cell_type": "code",
      "source": [
        "def show_graphs(history):\n",
        "    plt.figure(figsize=(10,4))\n",
        "    plt.subplot(1,2,1)\n",
        "    plt.plot(history.history['loss'], label='Train Loss')\n",
        "    plt.plot(history.history['val_loss'], label='Validation Loss')\n",
        "    plt.title('Loss')\n",
        "    plt.legend()\n",
        "    plt.subplot(1,2,2)\n",
        "    plt.plot(history.history['accuracy'], label='Train Accuracy')\n",
        "    plt.plot(history.history['val_accuracy'], label='Validation Accuracy')\n",
        "    plt.title('Accuracy')\n",
        "    plt.legend()\n",
        "    plt.show()\n",
        "\n",
        "show_graphs(history)"
      ],
      "metadata": {
        "id": "KpyYu-_37_mM",
        "colab": {
          "base_uri": "https://localhost:8080/",
          "height": 391
        },
        "outputId": "f6c8d8a9-e32d-44e5-845f-cdd5d35a4692"
      },
      "execution_count": 42,
      "outputs": [
        {
          "output_type": "display_data",
          "data": {
            "text/plain": [
              "<Figure size 1000x400 with 2 Axes>"
            ],
            "image/png": "[encoded data removed]"
          },
          "metadata": {}
        }
      ]
    },
    {
      "cell_type": "code",
      "source": [
        "ruta_nuevo_ecg = '/content/anorm.jpeg'\n",
        "\n",
        "# Llamamos a tu función para obtener el vector del nuevo ECG\n",
        "# Asegurate de que tu función ecg_to_vector esté definida o importada\n",
        "try:\n",
        "    vector_nuevo_ecg = ecg_to_vector(ruta_nuevo_ecg, smooth=True) # Usa los mismos parámetros que en el entrenamiento\n",
        "    vector_nuevo_ecg = resize_vector(vector_nuevo_ecg, target_len=2048)\n",
        "    print(f\"ECG procesado, longitud del vector: {len(vector_nuevo_ecg)}\")\n",
        "except Exception as e:\n",
        "    print(f\"Error al procesar el ECG: {e}\")\n",
        "    exit()\n",
        "\n",
        "# --- PASO 3: Preparar el Vector para el model ---\n",
        "# El model espera una entrada con forma (batch_size, longitud_vector, canales)\n",
        "# Para una sola predicción, batch_size es 1.\n",
        "vector_para_predecir = np.array([vector_nuevo_ecg]) # Poner el vector dentro de una lista para crear el batch\n",
        "vector_para_predecir = vector_para_predecir.reshape(1, vector_para_predecir.shape[1], 1) # Añadir la dimensión del canal\n",
        "\n",
        "print(f\"Forma del vector para predicción: {vector_para_predecir.shape}\")\n",
        "\n",
        "# --- PASO 4: Realizar la Predicción ---\n",
        "predicciones = model.predict(vector_para_predecir)\n",
        "\n",
        "# `predicciones` es un array con las probabilidades para cada una de las 4 clases.\n",
        "# Ejemplo: [[0.1, 0.7, 0.15, 0.05]]\n",
        "\n",
        "# --- PASO 5: Obtener la Clase Predicha ---\n",
        "# Encontramos el índice de la clase con la probabilidad más alta\n",
        "clase_predicha_indice = np.argmax(predicciones[0])\n",
        "probabilidad_maxima = np.max(predicciones[0])\n",
        "\n",
        "print(\"-\" * 30)\n",
        "print(f\"Predicción (probabilidades): {predicciones[0]}\")\n",
        "print(f\"Índice de Clase Predicha: {clase_predicha_indice}\")\n",
        "print(f\"Probabilidad de la clase predicha: {probabilidad_maxima * 100:.2f}%\")\n",
        "print(\"-\" * 30)\n",
        "\n",
        "# --- (Opcional) PASO 6: Mapear el Índice al Nombre de la Clase ---\n",
        "# Si tenés un diccionario que mapea índices a nombres (como el 'class_map' que usamos antes):\n",
        "# class_map = {0: 'Normal', 1: 'Arritmia_A', 2: 'Arritmia_B', 3: 'Ruido'} # Ejemplo\n",
        "# nombre_clase_predicha = [nombre for nombre, indice in class_map.items() if indice == clase_predicha_indice][0]\n",
        "# print(f\"Nombre de la Clase Predicha: {nombre_clase_predicha}\")"
      ],
      "metadata": {
        "id": "ouZMKTdSUVFB",
        "outputId": "ddc7b261-b5e1-4a8d-daac-41b8dcd61e22",
        "colab": {
          "base_uri": "https://localhost:8080/"
        }
      },
      "execution_count": 52,
      "outputs": [
        {
          "output_type": "stream",
          "name": "stdout",
          "text": [
            "ECG procesado, longitud del vector: 2048\n",
            "Forma del vector para predicción: (1, 2048, 1)\n",
            "\u001b[1m1/1\u001b[0m \u001b[32m━━━━━━━━━━━━━━━━━━━━\u001b[0m\u001b[37m\u001b[0m \u001b[1m0s\u001b[0m 31ms/step\n",
            "------------------------------\n",
            "Predicción (probabilidades): [1.0000000e+00 2.6619672e-14 8.0002910e-25 3.4152948e-30]\n",
            "Índice de Clase Predicha: 0\n",
            "Probabilidad de la clase predicha: 100.00%\n",
            "------------------------------\n"
          ]
        }
      ]
    },
    {
      "cell_type": "code",
      "source": [
        "model.save(\"models/ecg_modelVectoreLowResolution2.h5\")"
      ],
      "metadata": {
        "id": "s7RINUD71lZm",
        "outputId": "14a86f50-14fd-426e-f95e-34187320b850",
        "colab": {
          "base_uri": "https://localhost:8080/"
        }
      },
      "execution_count": 49,
      "outputs": [
        {
          "output_type": "stream",
          "name": "stderr",
          "text": [
            "WARNING:absl:You are saving your model as an HDF5 file via `model.save()` or `keras.saving.save_model(model)`. This file format is considered legacy. We recommend using instead the native Keras format, e.g. `model.save('my_model.keras')` or `keras.saving.save_model(model, 'my_model.keras')`. \n"
          ]
        }
      ]
    },
    {
      "cell_type": "code",
      "source": [
        "#!git push origin main"
      ],
      "metadata": {
        "id": "y54Mv27aEtR6"
      },
      "execution_count": 13,
      "outputs": []
    }
  ]
}